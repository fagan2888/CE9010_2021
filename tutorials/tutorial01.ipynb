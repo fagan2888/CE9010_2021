{
 "cells": [
  {
   "cell_type": "markdown",
   "metadata": {},
   "source": [
    "## CE9010: Introduction to Data Analysis\n",
    "## Semester 2 2018/19\n",
    "## Xavier Bresson\n",
    "<hr>\n",
    "\n",
    "## Tutorial 1: Introduction to Python\n",
    "## Objective\n",
    "### $\\bullet$ Basic operations in Python\n",
    "<hr>"
   ]
  },
  {
   "cell_type": "markdown",
   "metadata": {
    "collapsed": true
   },
   "source": [
    "## 1. Resources\n",
    "<hr>\n",
    "\n",
    "Slides: [Python introduction by Xavier Bresson]\n",
    "[Python introduction by Xavier Bresson]: http://data-science-training-xb.s3-website.eu-west-2.amazonaws.com/All_lectures/Lecture02_python.pdf\n",
    "\n",
    "Notebook: [Python introduction tutorial by Justin Johnson]\n",
    "[Python introduction tutorial by Justin Johnson]: https://github.com/kuleshov/cs228-material/blob/master/tutorials/python/cs228-python-tutorial.ipynb\n"
   ]
  },
  {
   "cell_type": "markdown",
   "metadata": {
    "collapsed": true
   },
   "source": [
    "<br>\n",
    "## 2. Basic operations\n",
    "<hr>\n",
    "### 2.1 Elementary algebra operations\n"
   ]
  },
  {
   "cell_type": "code",
   "execution_count": 1,
   "metadata": {},
   "outputs": [
    {
     "data": {
      "text/plain": [
       "11"
      ]
     },
     "execution_count": 1,
     "metadata": {},
     "output_type": "execute_result"
    }
   ],
   "source": [
    "5+6"
   ]
  },
  {
   "cell_type": "code",
   "execution_count": 2,
   "metadata": {},
   "outputs": [
    {
     "data": {
      "text/plain": [
       "0.625"
      ]
     },
     "execution_count": 2,
     "metadata": {},
     "output_type": "execute_result"
    }
   ],
   "source": [
    "5/8"
   ]
  },
  {
   "cell_type": "code",
   "execution_count": 3,
   "metadata": {},
   "outputs": [
    {
     "data": {
      "text/plain": [
       "390625"
      ]
     },
     "execution_count": 3,
     "metadata": {},
     "output_type": "execute_result"
    }
   ],
   "source": [
    "5**8"
   ]
  },
  {
   "cell_type": "markdown",
   "metadata": {},
   "source": [
    "### 2.2 Logical operations"
   ]
  },
  {
   "cell_type": "code",
   "execution_count": 4,
   "metadata": {},
   "outputs": [
    {
     "data": {
      "text/plain": [
       "True"
      ]
     },
     "execution_count": 4,
     "metadata": {},
     "output_type": "execute_result"
    }
   ],
   "source": [
    "1==1"
   ]
  },
  {
   "cell_type": "code",
   "execution_count": 5,
   "metadata": {},
   "outputs": [
    {
     "data": {
      "text/plain": [
       "False"
      ]
     },
     "execution_count": 5,
     "metadata": {},
     "output_type": "execute_result"
    }
   ],
   "source": [
    "2==1"
   ]
  },
  {
   "cell_type": "code",
   "execution_count": 6,
   "metadata": {},
   "outputs": [
    {
     "data": {
      "text/plain": [
       "True"
      ]
     },
     "execution_count": 6,
     "metadata": {},
     "output_type": "execute_result"
    }
   ],
   "source": [
    "2!=1"
   ]
  },
  {
   "cell_type": "code",
   "execution_count": 7,
   "metadata": {},
   "outputs": [
    {
     "data": {
      "text/plain": [
       "False"
      ]
     },
     "execution_count": 7,
     "metadata": {},
     "output_type": "execute_result"
    }
   ],
   "source": [
    "True & False"
   ]
  },
  {
   "cell_type": "code",
   "execution_count": 8,
   "metadata": {},
   "outputs": [
    {
     "data": {
      "text/plain": [
       "True"
      ]
     },
     "execution_count": 8,
     "metadata": {},
     "output_type": "execute_result"
    }
   ],
   "source": [
    "True | False"
   ]
  },
  {
   "cell_type": "markdown",
   "metadata": {},
   "source": [
    "### 2.3 Assignment operations"
   ]
  },
  {
   "cell_type": "code",
   "execution_count": 9,
   "metadata": {},
   "outputs": [],
   "source": [
    "x=3"
   ]
  },
  {
   "cell_type": "code",
   "execution_count": 10,
   "metadata": {},
   "outputs": [
    {
     "name": "stdout",
     "output_type": "stream",
     "text": [
      "3\n"
     ]
    }
   ],
   "source": [
    "print(x)"
   ]
  },
  {
   "cell_type": "code",
   "execution_count": 11,
   "metadata": {},
   "outputs": [
    {
     "name": "stdout",
     "output_type": "stream",
     "text": [
      "hello\n"
     ]
    }
   ],
   "source": [
    "x='hello'\n",
    "print(x)"
   ]
  },
  {
   "cell_type": "code",
   "execution_count": 12,
   "metadata": {},
   "outputs": [
    {
     "name": "stdout",
     "output_type": "stream",
     "text": [
      "False\n"
     ]
    }
   ],
   "source": [
    "x=(1==2)\n",
    "print(x)"
   ]
  },
  {
   "cell_type": "code",
   "execution_count": 13,
   "metadata": {},
   "outputs": [
    {
     "name": "stdout",
     "output_type": "stream",
     "text": [
      "x=2.35789, x=2.4\n"
     ]
    }
   ],
   "source": [
    "x=2.35789202950400\n",
    "print('x={:2.5f}, x={:.1f}'.format(x,x))"
   ]
  },
  {
   "cell_type": "code",
   "execution_count": 14,
   "metadata": {},
   "outputs": [
    {
     "name": "stdout",
     "output_type": "stream",
     "text": [
      "<class 'float'>\n"
     ]
    }
   ],
   "source": [
    "x=2.35789202950400\n",
    "print(type(x))"
   ]
  },
  {
   "cell_type": "code",
   "execution_count": 15,
   "metadata": {},
   "outputs": [
    {
     "name": "stdout",
     "output_type": "stream",
     "text": [
      "<class 'str'>\n"
     ]
    }
   ],
   "source": [
    "x='hello'\n",
    "print(type(x))"
   ]
  },
  {
   "cell_type": "markdown",
   "metadata": {},
   "source": [
    "### 2.4 Numpy\n",
    "\n",
    "List all libraries modudels: np. + tab\n",
    "\n",
    "List properties of the module: np.abs + shit + tab"
   ]
  },
  {
   "cell_type": "code",
   "execution_count": 16,
   "metadata": {},
   "outputs": [],
   "source": [
    "import numpy as np"
   ]
  },
  {
   "cell_type": "code",
   "execution_count": null,
   "metadata": {},
   "outputs": [],
   "source": []
  },
  {
   "cell_type": "code",
   "execution_count": 17,
   "metadata": {},
   "outputs": [],
   "source": [
    "#np.abs()"
   ]
  },
  {
   "cell_type": "code",
   "execution_count": 18,
   "metadata": {},
   "outputs": [
    {
     "name": "stdout",
     "output_type": "stream",
     "text": [
      "3.141592653589793\n"
     ]
    }
   ],
   "source": [
    "x = np.pi\n",
    "print(x)"
   ]
  },
  {
   "cell_type": "code",
   "execution_count": 19,
   "metadata": {},
   "outputs": [
    {
     "name": "stdout",
     "output_type": "stream",
     "text": [
      "[[1. 1.]\n",
      " [1. 1.]\n",
      " [1. 1.]\n",
      " [1. 1.]\n",
      " [1. 1.]]\n"
     ]
    }
   ],
   "source": [
    "print(np.ones((5,2)))"
   ]
  },
  {
   "cell_type": "code",
   "execution_count": 20,
   "metadata": {},
   "outputs": [
    {
     "name": "stdout",
     "output_type": "stream",
     "text": [
      "[0. 0. 0. 0. 0.]\n",
      "(5, 1)\n"
     ]
    }
   ],
   "source": [
    "print(np.zeros((5)))\n",
    "print(np.zeros((5,1)).shape)"
   ]
  },
  {
   "cell_type": "code",
   "execution_count": 21,
   "metadata": {},
   "outputs": [
    {
     "name": "stdout",
     "output_type": "stream",
     "text": [
      "[[1. 0. 0. 0. 0.]\n",
      " [0. 1. 0. 0. 0.]\n",
      " [0. 0. 1. 0. 0.]\n",
      " [0. 0. 0. 1. 0.]\n",
      " [0. 0. 0. 0. 1.]]\n"
     ]
    }
   ],
   "source": [
    "print(np.eye(5))"
   ]
  },
  {
   "cell_type": "code",
   "execution_count": 22,
   "metadata": {},
   "outputs": [
    {
     "name": "stdout",
     "output_type": "stream",
     "text": [
      "-0.09934665844951057\n",
      "0.8712940974716731\n",
      "4\n",
      "[0 1 2 3 4 5 6 7 8 9]\n",
      "[3 6 7 8 5 1 9 2 4 0]\n"
     ]
    }
   ],
   "source": [
    "print(np.random.normal(0,1))\n",
    "print(np.random.uniform(0,1))\n",
    "\n",
    "print(np.random.randint(10))\n",
    "print(np.array(range(10)))\n",
    "print(np.random.permutation(range(10)))"
   ]
  },
  {
   "cell_type": "code",
   "execution_count": 23,
   "metadata": {},
   "outputs": [
    {
     "name": "stdout",
     "output_type": "stream",
     "text": [
      "3.1415927 <class 'numpy.ndarray'> float32\n"
     ]
    }
   ],
   "source": [
    "x = np.array(x,dtype='float32')\n",
    "print(x,type(x),x.dtype)"
   ]
  },
  {
   "cell_type": "code",
   "execution_count": 24,
   "metadata": {},
   "outputs": [
    {
     "name": "stdout",
     "output_type": "stream",
     "text": [
      "3 <class 'numpy.ndarray'> int64\n"
     ]
    }
   ],
   "source": [
    "x = np.array(3.4,dtype='int64')\n",
    "print(x,type(x),x.dtype)"
   ]
  },
  {
   "cell_type": "code",
   "execution_count": 25,
   "metadata": {},
   "outputs": [
    {
     "name": "stdout",
     "output_type": "stream",
     "text": [
      "[[1 2 3]\n",
      " [4 5 6]]\n"
     ]
    }
   ],
   "source": [
    "X = np.array([[1,2,3],[4,5,6]])\n",
    "print(X)"
   ]
  },
  {
   "cell_type": "code",
   "execution_count": 26,
   "metadata": {},
   "outputs": [
    {
     "name": "stdout",
     "output_type": "stream",
     "text": [
      "(2, 3)\n",
      "2\n",
      "3\n"
     ]
    }
   ],
   "source": [
    "print(X.shape)\n",
    "print(X.shape[0])\n",
    "print(X.shape[1])"
   ]
  },
  {
   "cell_type": "code",
   "execution_count": 27,
   "metadata": {},
   "outputs": [
    {
     "name": "stdout",
     "output_type": "stream",
     "text": [
      "[[1 2 3]\n",
      " [4 5 6]]\n",
      "3\n",
      "[1 2 3]\n",
      "[1 2]\n",
      "[1 2]\n",
      "[2 3]\n",
      "6\n"
     ]
    }
   ],
   "source": [
    "print(X)\n",
    "print(X[0,2])\n",
    "print(X[0,:])\n",
    "print(X[0,0:2])\n",
    "print(X[0,:2])\n",
    "print(X[0,1:3])\n",
    "print(X[-1,-1])"
   ]
  },
  {
   "cell_type": "code",
   "execution_count": 28,
   "metadata": {},
   "outputs": [
    {
     "name": "stdout",
     "output_type": "stream",
     "text": [
      "[[7 8 9]\n",
      " [4 5 6]]\n"
     ]
    }
   ],
   "source": [
    "X[0,:] = [7,8,9] # assignment\n",
    "print(X)"
   ]
  },
  {
   "cell_type": "code",
   "execution_count": 29,
   "metadata": {},
   "outputs": [
    {
     "name": "stdout",
     "output_type": "stream",
     "text": [
      "[[1 2 3]\n",
      " [4 5 6]\n",
      " [7 8 9]]\n",
      "(3, 3)\n"
     ]
    }
   ],
   "source": [
    "X = np.array([[1,2,3],[4,5,6]])\n",
    "X = np.append(X,[[7,8,9]],axis=0) # append\n",
    "print(X)\n",
    "print(X.shape)"
   ]
  },
  {
   "cell_type": "markdown",
   "metadata": {},
   "source": [
    "<br>\n",
    "## 3. Load and save data\n",
    "<hr>"
   ]
  },
  {
   "cell_type": "code",
   "execution_count": 30,
   "metadata": {},
   "outputs": [
    {
     "data": {
      "text/plain": [
       "'/Users/xbresson/Documents/Dropbox/06_NTU_2017_now/04_Teaching/62_CE9010_2021/06_github/CE9010_2021/tutorials'"
      ]
     },
     "execution_count": 30,
     "metadata": {},
     "output_type": "execute_result"
    }
   ],
   "source": [
    "pwd"
   ]
  },
  {
   "cell_type": "code",
   "execution_count": 31,
   "metadata": {},
   "outputs": [
    {
     "name": "stdout",
     "output_type": "stream",
     "text": [
      "total 10952\r\n",
      "drwxr-xr-x@ 20 xbresson  staff      640 Mar 18  2020 \u001b[1m\u001b[36m.\u001b[m\u001b[m/\r\n",
      "drwxr-xr-x@ 12 xbresson  staff      384 Jan 27 09:22 \u001b[1m\u001b[36m..\u001b[m\u001b[m/\r\n",
      "-rw-r--r--@  1 xbresson  staff     6148 Feb 24  2020 .DS_Store\r\n",
      "drwxr-xr-x@ 22 xbresson  staff      704 Apr 10  2018 \u001b[1m\u001b[36m.ipynb_checkpoints\u001b[m\u001b[m/\r\n",
      "drwxr-xr-x@ 15 xbresson  staff      480 Apr 10  2018 \u001b[1m\u001b[36mdata\u001b[m\u001b[m/\r\n",
      "-rw-r--r--@  1 xbresson  staff    94928 Jan 30  2019 tutorial01.ipynb\r\n",
      "-rw-r--r--@  1 xbresson  staff    15298 Feb  5  2020 tutorial02.ipynb\r\n",
      "-rw-r--r--@  1 xbresson  staff    18763 Jan 22  2019 tutorial02_solution.ipynb\r\n",
      "-rw-r--r--@  1 xbresson  staff    19608 Feb 12  2020 tutorial03.ipynb\r\n",
      "-rw-r--r--@  1 xbresson  staff  1659126 Feb 13  2019 tutorial03_solution.ipynb\r\n",
      "-rw-r--r--@  1 xbresson  staff    16870 Feb 26  2020 tutorial04.ipynb\r\n",
      "-rw-r--r--@  1 xbresson  staff   372359 Feb 26  2020 tutorial04_solution.ipynb\r\n",
      "-rw-r--r--@  1 xbresson  staff    11363 Mar 18  2020 tutorial05.ipynb\r\n",
      "-rw-r--r--@  1 xbresson  staff  1011418 Mar 18  2020 tutorial05_solution.ipynb\r\n",
      "-rw-r--r--@  1 xbresson  staff    17020 Mar 18  2020 tutorial06.ipynb\r\n",
      "-rw-r--r--@  1 xbresson  staff   485100 Mar 18  2020 tutorial06_solution.ipynb\r\n",
      "-rw-r--r--@  1 xbresson  staff    12764 Feb  5  2020 tutorial07.ipynb\r\n",
      "-rw-r--r--@  1 xbresson  staff  1296113 Jan 22  2019 tutorial07_solution.ipynb\r\n",
      "-rw-r--r--@  1 xbresson  staff    12449 Mar 18  2020 tutorial08.ipynb\r\n",
      "-rw-r--r--@  1 xbresson  staff   520215 Mar 18  2020 tutorial08_solution.ipynb\r\n"
     ]
    }
   ],
   "source": [
    "ls -al"
   ]
  },
  {
   "cell_type": "code",
   "execution_count": 32,
   "metadata": {},
   "outputs": [
    {
     "name": "stdout",
     "output_type": "stream",
     "text": [
      "/Users/xbresson/Documents/Dropbox/06_NTU_2017_now/04_Teaching/62_CE9010_2021/06_github/CE9010_2021\n"
     ]
    }
   ],
   "source": [
    "cd .."
   ]
  },
  {
   "cell_type": "code",
   "execution_count": 33,
   "metadata": {},
   "outputs": [
    {
     "data": {
      "text/plain": [
       "'/Users/xbresson/Documents/Dropbox/06_NTU_2017_now/04_Teaching/62_CE9010_2021/06_github/CE9010_2021'"
      ]
     },
     "execution_count": 33,
     "metadata": {},
     "output_type": "execute_result"
    }
   ],
   "source": [
    "pwd"
   ]
  },
  {
   "cell_type": "code",
   "execution_count": 34,
   "metadata": {},
   "outputs": [
    {
     "name": "stdout",
     "output_type": "stream",
     "text": [
      "/Users/xbresson/Documents/Dropbox/06_NTU_2017_now/04_Teaching/62_CE9010_2021/06_github/CE9010_2021/tutorials\n"
     ]
    }
   ],
   "source": [
    "cd tutorials"
   ]
  },
  {
   "cell_type": "code",
   "execution_count": 35,
   "metadata": {
    "scrolled": false
   },
   "outputs": [
    {
     "name": "stdout",
     "output_type": "stream",
     "text": [
      "[[ 6.1101  17.592  ]\n",
      " [ 5.5277   9.1302 ]\n",
      " [ 8.5186  13.662  ]\n",
      " [ 7.0032  11.854  ]\n",
      " [ 5.8598   6.8233 ]\n",
      " [ 8.3829  11.886  ]\n",
      " [ 7.4764   4.3483 ]\n",
      " [ 8.5781  12.     ]\n",
      " [ 6.4862   6.5987 ]\n",
      " [ 5.0546   3.8166 ]\n",
      " [ 5.7107   3.2522 ]\n",
      " [14.164   15.505  ]\n",
      " [ 5.734    3.1551 ]\n",
      " [ 8.4084   7.2258 ]\n",
      " [ 5.6407   0.71618]\n",
      " [ 5.3794   3.5129 ]\n",
      " [ 6.3654   5.3048 ]\n",
      " [ 5.1301   0.56077]\n",
      " [ 6.4296   3.6518 ]\n",
      " [ 7.0708   5.3893 ]\n",
      " [ 6.1891   3.1386 ]\n",
      " [20.27    21.767  ]\n",
      " [ 5.4901   4.263  ]\n",
      " [ 6.3261   5.1875 ]\n",
      " [ 5.5649   3.0825 ]\n",
      " [18.945   22.638  ]\n",
      " [12.828   13.501  ]\n",
      " [10.957    7.0467 ]\n",
      " [13.176   14.692  ]\n",
      " [22.203   24.147  ]\n",
      " [ 5.2524  -1.22   ]\n",
      " [ 6.5894   5.9966 ]\n",
      " [ 9.2482  12.134  ]\n",
      " [ 5.8918   1.8495 ]\n",
      " [ 8.2111   6.5426 ]\n",
      " [ 7.9334   4.5623 ]\n",
      " [ 8.0959   4.1164 ]\n",
      " [ 5.6063   3.3928 ]\n",
      " [12.836   10.117  ]\n",
      " [ 6.3534   5.4974 ]\n",
      " [ 5.4069   0.55657]\n",
      " [ 6.8825   3.9115 ]\n",
      " [11.708    5.3854 ]\n",
      " [ 5.7737   2.4406 ]\n",
      " [ 7.8247   6.7318 ]\n",
      " [ 7.0931   1.0463 ]\n",
      " [ 5.0702   5.1337 ]\n",
      " [ 5.8014   1.844  ]\n",
      " [11.7      8.0043 ]\n",
      " [ 5.5416   1.0179 ]\n",
      " [ 7.5402   6.7504 ]\n",
      " [ 5.3077   1.8396 ]\n",
      " [ 7.4239   4.2885 ]\n",
      " [ 7.6031   4.9981 ]\n",
      " [ 6.3328   1.4233 ]\n",
      " [ 6.3589  -1.4211 ]\n",
      " [ 6.2742   2.4756 ]\n",
      " [ 5.6397   4.6042 ]\n",
      " [ 9.3102   3.9624 ]\n",
      " [ 9.4536   5.4141 ]\n",
      " [ 8.8254   5.1694 ]\n",
      " [ 5.1793  -0.74279]\n",
      " [21.279   17.929  ]\n",
      " [14.908   12.054  ]\n",
      " [18.959   17.054  ]\n",
      " [ 7.2182   4.8852 ]\n",
      " [ 8.2951   5.7442 ]\n",
      " [10.236    7.7754 ]\n",
      " [ 5.4994   1.0173 ]\n",
      " [20.341   20.992  ]\n",
      " [10.136    6.6799 ]\n",
      " [ 7.3345   4.0259 ]\n",
      " [ 6.0062   1.2784 ]\n",
      " [ 7.2259   3.3411 ]\n",
      " [ 5.0269  -2.6807 ]\n",
      " [ 6.5479   0.29678]\n",
      " [ 7.5386   3.8845 ]\n",
      " [ 5.0365   5.7014 ]\n",
      " [10.274    6.7526 ]\n",
      " [ 5.1077   2.0576 ]\n",
      " [ 5.7292   0.47953]\n",
      " [ 5.1884   0.20421]\n",
      " [ 6.3557   0.67861]\n",
      " [ 9.7687   7.5435 ]\n",
      " [ 6.5159   5.3436 ]\n",
      " [ 8.5172   4.2415 ]\n",
      " [ 9.1802   6.7981 ]\n",
      " [ 6.002    0.92695]\n",
      " [ 5.5204   0.152  ]\n",
      " [ 5.0594   2.8214 ]\n",
      " [ 5.7077   1.8451 ]\n",
      " [ 7.6366   4.2959 ]\n",
      " [ 5.8707   7.2029 ]\n",
      " [ 5.3054   1.9869 ]\n",
      " [ 8.2934   0.14454]\n",
      " [13.394    9.0551 ]\n",
      " [ 5.4369   0.61705]]\n",
      "(97, 2)\n",
      "float64\n"
     ]
    }
   ],
   "source": [
    "data = np.loadtxt('data/profit_population.txt', delimiter=',')\n",
    "print(data)\n",
    "print(data.shape)\n",
    "print(data.dtype)"
   ]
  },
  {
   "cell_type": "code",
   "execution_count": 36,
   "metadata": {},
   "outputs": [],
   "source": [
    "new_data = 2* data\n",
    "np.savetxt('data/profit_population_new.txt', new_data, delimiter=',', fmt='%2.5f')"
   ]
  },
  {
   "cell_type": "code",
   "execution_count": 37,
   "metadata": {},
   "outputs": [
    {
     "name": "stdout",
     "output_type": "stream",
     "text": [
      "Variable   Type       Data/Info\n",
      "-------------------------------\n",
      "X          ndarray    3x3: 9 elems, type `int64`, 72 bytes\n",
      "data       ndarray    97x2: 194 elems, type `float64`, 1552 bytes\n",
      "new_data   ndarray    97x2: 194 elems, type `float64`, 1552 bytes\n",
      "np         module     <module 'numpy' from '/Us<...>kages/numpy/__init__.py'>\n",
      "x          ndarray    : 1 elems, type `int64`, 8 bytes\n"
     ]
    }
   ],
   "source": [
    "%whos"
   ]
  },
  {
   "cell_type": "markdown",
   "metadata": {},
   "source": [
    "<br>\n",
    "## 4. Linear algebra operations\n",
    "<hr>"
   ]
  },
  {
   "cell_type": "code",
   "execution_count": 38,
   "metadata": {},
   "outputs": [
    {
     "name": "stdout",
     "output_type": "stream",
     "text": [
      "[[1 2 3]\n",
      " [4 5 6]] (2, 3)\n",
      "[[ 2  7 -2]\n",
      " [ 1  8  3]] (2, 3)\n"
     ]
    }
   ],
   "source": [
    "X = np.array([[1,2,3],[4,5,6]])\n",
    "print(X,X.shape)\n",
    "Y = np.array([[2,7,-2],[1,8,3]])\n",
    "print(Y,Y.shape)"
   ]
  },
  {
   "cell_type": "code",
   "execution_count": 39,
   "metadata": {},
   "outputs": [
    {
     "name": "stdout",
     "output_type": "stream",
     "text": [
      "[[ 2  1]\n",
      " [ 7  8]\n",
      " [-2  3]] (3, 2)\n"
     ]
    }
   ],
   "source": [
    "Z = Y.T #transpose\n",
    "print(Z,Z.shape)"
   ]
  },
  {
   "cell_type": "code",
   "execution_count": 40,
   "metadata": {},
   "outputs": [
    {
     "name": "stdout",
     "output_type": "stream",
     "text": [
      "[[ 2 14 -6]\n",
      " [ 4 40 18]] (2, 3)\n"
     ]
    }
   ],
   "source": [
    "Z = X* Y # element-wise matrix multiplication\n",
    "print(Z,Z.shape)"
   ]
  },
  {
   "cell_type": "code",
   "execution_count": 41,
   "metadata": {},
   "outputs": [
    {
     "name": "stdout",
     "output_type": "stream",
     "text": [
      "(2, 3)\n",
      "(3, 2)\n",
      "[[10 26]\n",
      " [31 62]] (2, 2)\n"
     ]
    }
   ],
   "source": [
    "print(X.shape)\n",
    "print(Y.T.shape)\n",
    "\n",
    "Z = X.dot(Y.T) # matrix multiplication\n",
    "print(Z,Z.shape)"
   ]
  },
  {
   "cell_type": "code",
   "execution_count": 42,
   "metadata": {},
   "outputs": [
    {
     "name": "stdout",
     "output_type": "stream",
     "text": [
      "[[ 1  4  9]\n",
      " [16 25 36]] (2, 3)\n"
     ]
    }
   ],
   "source": [
    "Z = X**2\n",
    "print(Z,Z.shape)"
   ]
  },
  {
   "cell_type": "code",
   "execution_count": 43,
   "metadata": {},
   "outputs": [
    {
     "name": "stdout",
     "output_type": "stream",
     "text": [
      "[[1.         0.5        0.33333333]\n",
      " [0.25       0.2        0.16666667]] (2, 3)\n"
     ]
    }
   ],
   "source": [
    "Z = 1/X\n",
    "print(Z,Z.shape)"
   ]
  },
  {
   "cell_type": "code",
   "execution_count": 44,
   "metadata": {},
   "outputs": [
    {
     "name": "stdout",
     "output_type": "stream",
     "text": [
      "[[0.         0.69314718 1.09861229]\n",
      " [1.38629436 1.60943791 1.79175947]] (2, 3)\n"
     ]
    }
   ],
   "source": [
    "Z = np.log(X)\n",
    "print(Z,Z.shape)"
   ]
  },
  {
   "cell_type": "code",
   "execution_count": 45,
   "metadata": {},
   "outputs": [
    {
     "name": "stdout",
     "output_type": "stream",
     "text": [
      "[[2 3 4]\n",
      " [5 6 7]] (2, 3)\n"
     ]
    }
   ],
   "source": [
    "Z = X + 1\n",
    "print(Z,Z.shape)"
   ]
  },
  {
   "cell_type": "code",
   "execution_count": 46,
   "metadata": {},
   "outputs": [
    {
     "name": "stdout",
     "output_type": "stream",
     "text": [
      "[[ 2  7 -2]\n",
      " [ 1  8  3]] (2, 3)\n",
      "8\n",
      "[2 8 3]\n",
      "[7 8]\n",
      "4\n",
      "[0 1 1]\n",
      "[1 1]\n"
     ]
    }
   ],
   "source": [
    "X = np.array([[2,7,-2],[1,8,3]])\n",
    "print(X,X.shape)\n",
    "print(np.max(X))\n",
    "print(np.max(X,axis=0))\n",
    "print(np.max(X,axis=1))\n",
    "print(np.argmax(X))\n",
    "print(np.argmax(X,axis=0))\n",
    "print(np.argmax(X,axis=1))"
   ]
  },
  {
   "cell_type": "code",
   "execution_count": 47,
   "metadata": {},
   "outputs": [
    {
     "name": "stdout",
     "output_type": "stream",
     "text": [
      "[[ 2  7 -2]\n",
      " [ 1  8  3]] (2, 3)\n",
      "19\n",
      "[ 3 15  1]\n",
      "[ 7 12]\n"
     ]
    }
   ],
   "source": [
    "X = np.array([[2,7,-2],[1,8,3]])\n",
    "print(X,X.shape)\n",
    "print(np.sum(X))\n",
    "print(np.sum(X,axis=0))\n",
    "print(np.sum(X,axis=1))"
   ]
  },
  {
   "cell_type": "markdown",
   "metadata": {},
   "source": [
    "<br>\n",
    "## 5. Plotting data\n",
    "<hr>"
   ]
  },
  {
   "cell_type": "code",
   "execution_count": 48,
   "metadata": {},
   "outputs": [],
   "source": [
    "# Visualization library\n",
    "%matplotlib inline\n",
    "from IPython.display import set_matplotlib_formats\n",
    "set_matplotlib_formats('png2x','pdf')\n",
    "import matplotlib.pyplot as plt"
   ]
  },
  {
   "cell_type": "code",
   "execution_count": 49,
   "metadata": {},
   "outputs": [
    {
     "data": {
      "application/pdf": "[encoded data removed]",
      "image/png": "[encoded data removed]",
      "text/plain": [
       "<Figure size 432x288 with 1 Axes>"
      ]
     },
     "metadata": {
      "image/png": {
       "height": 277,
       "width": 400
      },
      "needs_background": "light"
     },
     "output_type": "display_data"
    }
   ],
   "source": [
    "x = np.linspace(0,6*np.pi,100)\n",
    "#print(x)\n",
    "y = np.sin(x)\n",
    "\n",
    "plt.figure(1)\n",
    "plt.plot(x, y,label='sin'.format(i=1))\n",
    "plt.legend(loc='best')\n",
    "plt.title('Sin plotting')\n",
    "plt.xlabel('x')\n",
    "plt.ylabel('y')\n",
    "plt.show()"
   ]
  },
  {
   "cell_type": "markdown",
   "metadata": {},
   "source": [
    "<br>\n",
    "## 6. Control statements\n",
    "<hr>\n",
    "### 6.1 Function"
   ]
  },
  {
   "cell_type": "code",
   "execution_count": 50,
   "metadata": {},
   "outputs": [],
   "source": [
    "def f(x):\n",
    "    return x**2"
   ]
  },
  {
   "cell_type": "code",
   "execution_count": 51,
   "metadata": {},
   "outputs": [
    {
     "name": "stdout",
     "output_type": "stream",
     "text": [
      "9\n"
     ]
    }
   ],
   "source": [
    "x = 3\n",
    "y = f(x)\n",
    "print(y)"
   ]
  },
  {
   "cell_type": "code",
   "execution_count": 52,
   "metadata": {},
   "outputs": [],
   "source": [
    "def g(x,y):\n",
    "    return x**2, y**3"
   ]
  },
  {
   "cell_type": "code",
   "execution_count": 53,
   "metadata": {},
   "outputs": [
    {
     "name": "stdout",
     "output_type": "stream",
     "text": [
      "9 125\n"
     ]
    }
   ],
   "source": [
    "x = 3\n",
    "y = 5\n",
    "u,v = g(x,y)\n",
    "print(u,v)"
   ]
  },
  {
   "cell_type": "markdown",
   "metadata": {},
   "source": [
    "### 6.2 Logical control statements"
   ]
  },
  {
   "cell_type": "code",
   "execution_count": 54,
   "metadata": {},
   "outputs": [
    {
     "name": "stdout",
     "output_type": "stream",
     "text": [
      "0\n",
      "1\n",
      "2\n",
      "3\n",
      "4\n",
      "5\n",
      "6\n",
      "7\n",
      "8\n",
      "9\n"
     ]
    }
   ],
   "source": [
    "for i in range(10):\n",
    "    print(i)"
   ]
  },
  {
   "cell_type": "code",
   "execution_count": 55,
   "metadata": {},
   "outputs": [
    {
     "name": "stdout",
     "output_type": "stream",
     "text": [
      "1\n",
      "2\n",
      "3\n",
      "4\n",
      "5\n",
      "6\n",
      "7\n",
      "8\n",
      "9\n",
      "10\n"
     ]
    }
   ],
   "source": [
    "i = 0\n",
    "while (i<10):\n",
    "    i += 1\n",
    "    print(i)"
   ]
  },
  {
   "cell_type": "code",
   "execution_count": 56,
   "metadata": {},
   "outputs": [
    {
     "name": "stdout",
     "output_type": "stream",
     "text": [
      "True\n",
      "False\n"
     ]
    }
   ],
   "source": [
    "i = True\n",
    "if i==True:\n",
    "    print(True)\n",
    "    \n",
    "i = False  \n",
    "if i==True:\n",
    "    print(True)\n",
    "elif i==False:\n",
    "    print(False)\n"
   ]
  },
  {
   "cell_type": "markdown",
   "metadata": {},
   "source": [
    "<br>\n",
    "## 7. Vectorization and efficient linear algebra computations\n",
    "<hr>\n",
    "### 7.1 No vectorization"
   ]
  },
  {
   "cell_type": "code",
   "execution_count": 57,
   "metadata": {},
   "outputs": [],
   "source": [
    "import time"
   ]
  },
  {
   "cell_type": "code",
   "execution_count": 58,
   "metadata": {},
   "outputs": [],
   "source": [
    "n = 10**7\n",
    "x = np.linspace(0,1,n)\n",
    "y = np.linspace(0,2,n)"
   ]
  },
  {
   "cell_type": "code",
   "execution_count": 59,
   "metadata": {},
   "outputs": [
    {
     "name": "stdout",
     "output_type": "stream",
     "text": [
      "6666666.999999491\n",
      "Time= 5.725438833236694\n"
     ]
    }
   ],
   "source": [
    "start = time.time()\n",
    "z = 0\n",
    "for i in range(len(x)):\n",
    "    z += x[i]*y[i]\n",
    "end = time.time() - start\n",
    "print(z)\n",
    "print('Time=',end)"
   ]
  },
  {
   "cell_type": "markdown",
   "metadata": {},
   "source": [
    "### 7.2 Vectorization"
   ]
  },
  {
   "cell_type": "code",
   "execution_count": 60,
   "metadata": {},
   "outputs": [
    {
     "name": "stdout",
     "output_type": "stream",
     "text": [
      "6666667.00000005\n",
      "Time= 0.00741887092590332\n"
     ]
    }
   ],
   "source": [
    "start = time.time()\n",
    "z = x.T.dot(y)\n",
    "end = time.time() - start\n",
    "print(z)\n",
    "print('Time=',end)"
   ]
  },
  {
   "cell_type": "markdown",
   "metadata": {},
   "source": [
    "Speed of vectorized codes maybe 2-3 orders of magnitude faster than unvectorized codes.\n",
    "\n",
    "Vectorized codes (with vectors, matrices) benefit from fast linear algebra libraries (BLAS, LAPACK) and adapted architectures for CPUs, multi-core CPUs, and GPUs."
   ]
  },
  {
   "cell_type": "code",
   "execution_count": null,
   "metadata": {},
   "outputs": [],
   "source": []
  },
  {
   "cell_type": "code",
   "execution_count": null,
   "metadata": {},
   "outputs": [],
   "source": []
  }
 ],
 "metadata": {
  "kernelspec": {
   "display_name": "Python 3",
   "language": "python",
   "name": "python3"
  },
  "language_info": {
   "codemirror_mode": {
    "name": "ipython",
    "version": 3
   },
   "file_extension": ".py",
   "mimetype": "text/x-python",
   "name": "python",
   "nbconvert_exporter": "python",
   "pygments_lexer": "ipython3",
   "version": "3.6.12"
  }
 },
 "nbformat": 4,
 "nbformat_minor": 1
}
